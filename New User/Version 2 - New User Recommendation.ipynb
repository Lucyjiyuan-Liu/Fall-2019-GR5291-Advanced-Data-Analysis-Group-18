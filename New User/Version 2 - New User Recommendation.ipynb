{
 "cells": [
  {
   "cell_type": "markdown",
   "metadata": {},
   "source": [
    "# Recommend For New Users"
   ]
  },
  {
   "cell_type": "markdown",
   "metadata": {},
   "source": [
    "## 1. Simple Filter & Sort\n",
    "\n",
    "    -- Choose genre and recommend movies according to the rating."
   ]
  },
  {
   "cell_type": "code",
   "execution_count": 2,
   "metadata": {},
   "outputs": [],
   "source": [
    "# import pandas as pd\n",
    "# import numpy as np"
   ]
  },
  {
   "cell_type": "code",
   "execution_count": 5,
   "metadata": {},
   "outputs": [
    {
     "data": {
      "text/html": [
       "<div>\n",
       "<style scoped>\n",
       "    .dataframe tbody tr th:only-of-type {\n",
       "        vertical-align: middle;\n",
       "    }\n",
       "\n",
       "    .dataframe tbody tr th {\n",
       "        vertical-align: top;\n",
       "    }\n",
       "\n",
       "    .dataframe thead th {\n",
       "        text-align: right;\n",
       "    }\n",
       "</style>\n",
       "<table border=\"1\" class=\"dataframe\">\n",
       "  <thead>\n",
       "    <tr style=\"text-align: right;\">\n",
       "      <th></th>\n",
       "      <th>movieId</th>\n",
       "      <th>title</th>\n",
       "      <th>genres</th>\n",
       "    </tr>\n",
       "  </thead>\n",
       "  <tbody>\n",
       "    <tr>\n",
       "      <th>0</th>\n",
       "      <td>1</td>\n",
       "      <td>Toy Story (1995)</td>\n",
       "      <td>Adventure|Animation|Children|Comedy|Fantasy</td>\n",
       "    </tr>\n",
       "    <tr>\n",
       "      <th>1</th>\n",
       "      <td>2</td>\n",
       "      <td>Jumanji (1995)</td>\n",
       "      <td>Adventure|Children|Fantasy</td>\n",
       "    </tr>\n",
       "    <tr>\n",
       "      <th>2</th>\n",
       "      <td>3</td>\n",
       "      <td>Grumpier Old Men (1995)</td>\n",
       "      <td>Comedy|Romance</td>\n",
       "    </tr>\n",
       "    <tr>\n",
       "      <th>3</th>\n",
       "      <td>4</td>\n",
       "      <td>Waiting to Exhale (1995)</td>\n",
       "      <td>Comedy|Drama|Romance</td>\n",
       "    </tr>\n",
       "    <tr>\n",
       "      <th>4</th>\n",
       "      <td>5</td>\n",
       "      <td>Father of the Bride Part II (1995)</td>\n",
       "      <td>Comedy</td>\n",
       "    </tr>\n",
       "  </tbody>\n",
       "</table>\n",
       "</div>"
      ],
      "text/plain": [
       "   movieId                               title  \\\n",
       "0        1                    Toy Story (1995)   \n",
       "1        2                      Jumanji (1995)   \n",
       "2        3             Grumpier Old Men (1995)   \n",
       "3        4            Waiting to Exhale (1995)   \n",
       "4        5  Father of the Bride Part II (1995)   \n",
       "\n",
       "                                        genres  \n",
       "0  Adventure|Animation|Children|Comedy|Fantasy  \n",
       "1                   Adventure|Children|Fantasy  \n",
       "2                               Comedy|Romance  \n",
       "3                         Comedy|Drama|Romance  \n",
       "4                                       Comedy  "
      ]
     },
     "execution_count": 5,
     "metadata": {},
     "output_type": "execute_result"
    }
   ],
   "source": [
    "# # read movies data\n",
    "# movies = pd.read_csv('ml-20m/movies.csv')\n",
    "# movies.head()"
   ]
  },
  {
   "cell_type": "code",
   "execution_count": 6,
   "metadata": {},
   "outputs": [
    {
     "data": {
      "text/plain": [
       "(27278, 3)"
      ]
     },
     "execution_count": 6,
     "metadata": {},
     "output_type": "execute_result"
    }
   ],
   "source": [
    "# movies.shape"
   ]
  },
  {
   "cell_type": "code",
   "execution_count": 7,
   "metadata": {},
   "outputs": [
    {
     "data": {
      "text/plain": [
       "27278"
      ]
     },
     "execution_count": 7,
     "metadata": {},
     "output_type": "execute_result"
    }
   ],
   "source": [
    "# len(set(movies.movieId))"
   ]
  },
  {
   "cell_type": "code",
   "execution_count": 37,
   "metadata": {},
   "outputs": [
    {
     "data": {
      "text/plain": [
       "{'(no genres listed)',\n",
       " 'Action',\n",
       " 'Adventure',\n",
       " 'Animation',\n",
       " 'Children',\n",
       " 'Comedy',\n",
       " 'Crime',\n",
       " 'Documentary',\n",
       " 'Drama',\n",
       " 'Fantasy',\n",
       " 'Film-Noir',\n",
       " 'Horror',\n",
       " 'IMAX',\n",
       " 'Musical',\n",
       " 'Mystery',\n",
       " 'Romance',\n",
       " 'Sci-Fi',\n",
       " 'Thriller',\n",
       " 'War',\n",
       " 'Western'}"
      ]
     },
     "execution_count": 37,
     "metadata": {},
     "output_type": "execute_result"
    }
   ],
   "source": [
    "# from itertools import chain\n",
    "# x = [s.split('|') for s in movies.genres]\n",
    "# g_list = set(chain(*x))\n",
    "# g_list"
   ]
  },
  {
   "cell_type": "markdown",
   "metadata": {},
   "source": [
    "### 1.1 Recommend according to ratings"
   ]
  },
  {
   "cell_type": "code",
   "execution_count": 8,
   "metadata": {},
   "outputs": [
    {
     "data": {
      "text/html": [
       "<div>\n",
       "<style scoped>\n",
       "    .dataframe tbody tr th:only-of-type {\n",
       "        vertical-align: middle;\n",
       "    }\n",
       "\n",
       "    .dataframe tbody tr th {\n",
       "        vertical-align: top;\n",
       "    }\n",
       "\n",
       "    .dataframe thead th {\n",
       "        text-align: right;\n",
       "    }\n",
       "</style>\n",
       "<table border=\"1\" class=\"dataframe\">\n",
       "  <thead>\n",
       "    <tr style=\"text-align: right;\">\n",
       "      <th></th>\n",
       "      <th>userId</th>\n",
       "      <th>movieId</th>\n",
       "      <th>rating</th>\n",
       "      <th>timestamp</th>\n",
       "    </tr>\n",
       "  </thead>\n",
       "  <tbody>\n",
       "    <tr>\n",
       "      <th>0</th>\n",
       "      <td>1</td>\n",
       "      <td>2</td>\n",
       "      <td>3.5</td>\n",
       "      <td>1112486027</td>\n",
       "    </tr>\n",
       "    <tr>\n",
       "      <th>1</th>\n",
       "      <td>1</td>\n",
       "      <td>29</td>\n",
       "      <td>3.5</td>\n",
       "      <td>1112484676</td>\n",
       "    </tr>\n",
       "    <tr>\n",
       "      <th>2</th>\n",
       "      <td>1</td>\n",
       "      <td>32</td>\n",
       "      <td>3.5</td>\n",
       "      <td>1112484819</td>\n",
       "    </tr>\n",
       "    <tr>\n",
       "      <th>3</th>\n",
       "      <td>1</td>\n",
       "      <td>47</td>\n",
       "      <td>3.5</td>\n",
       "      <td>1112484727</td>\n",
       "    </tr>\n",
       "    <tr>\n",
       "      <th>4</th>\n",
       "      <td>1</td>\n",
       "      <td>50</td>\n",
       "      <td>3.5</td>\n",
       "      <td>1112484580</td>\n",
       "    </tr>\n",
       "  </tbody>\n",
       "</table>\n",
       "</div>"
      ],
      "text/plain": [
       "   userId  movieId  rating   timestamp\n",
       "0       1        2     3.5  1112486027\n",
       "1       1       29     3.5  1112484676\n",
       "2       1       32     3.5  1112484819\n",
       "3       1       47     3.5  1112484727\n",
       "4       1       50     3.5  1112484580"
      ]
     },
     "execution_count": 8,
     "metadata": {},
     "output_type": "execute_result"
    }
   ],
   "source": [
    "# ratings = pd.read_csv('ml-20m/ratings.csv')\n",
    "# ratings.head()"
   ]
  },
  {
   "cell_type": "code",
   "execution_count": 9,
   "metadata": {},
   "outputs": [
    {
     "data": {
      "text/plain": [
       "26744"
      ]
     },
     "execution_count": 9,
     "metadata": {},
     "output_type": "execute_result"
    }
   ],
   "source": [
    "# len(set(ratings.movieId))"
   ]
  },
  {
   "cell_type": "code",
   "execution_count": 61,
   "metadata": {},
   "outputs": [
    {
     "data": {
      "text/plain": [
       "0.22167128502260194"
      ]
     },
     "execution_count": 61,
     "metadata": {},
     "output_type": "execute_result"
    }
   ],
   "source": [
    "# ratio of rating > 4\n",
    "len(ratings[ratings['rating']>4])/len(ratings)"
   ]
  },
  {
   "cell_type": "markdown",
   "metadata": {},
   "source": [
    "22% people rates above 4. So we can think it is a relatively good cutoff of recommending or not."
   ]
  },
  {
   "cell_type": "code",
   "execution_count": 10,
   "metadata": {},
   "outputs": [],
   "source": [
    "mean = pd.DataFrame(ratings[['movieId','rating']].groupby(['movieId'])['rating'].mean())\n",
    "mean['movieId'] = mean.index\n",
    "mean.index = range(len(mean))"
   ]
  },
  {
   "cell_type": "code",
   "execution_count": 11,
   "metadata": {},
   "outputs": [
    {
     "data": {
      "text/html": [
       "<div>\n",
       "<style scoped>\n",
       "    .dataframe tbody tr th:only-of-type {\n",
       "        vertical-align: middle;\n",
       "    }\n",
       "\n",
       "    .dataframe tbody tr th {\n",
       "        vertical-align: top;\n",
       "    }\n",
       "\n",
       "    .dataframe thead th {\n",
       "        text-align: right;\n",
       "    }\n",
       "</style>\n",
       "<table border=\"1\" class=\"dataframe\">\n",
       "  <thead>\n",
       "    <tr style=\"text-align: right;\">\n",
       "      <th></th>\n",
       "      <th>rating</th>\n",
       "      <th>movieId</th>\n",
       "    </tr>\n",
       "  </thead>\n",
       "  <tbody>\n",
       "    <tr>\n",
       "      <th>0</th>\n",
       "      <td>3.921240</td>\n",
       "      <td>1</td>\n",
       "    </tr>\n",
       "    <tr>\n",
       "      <th>1</th>\n",
       "      <td>3.211977</td>\n",
       "      <td>2</td>\n",
       "    </tr>\n",
       "    <tr>\n",
       "      <th>2</th>\n",
       "      <td>3.151040</td>\n",
       "      <td>3</td>\n",
       "    </tr>\n",
       "    <tr>\n",
       "      <th>3</th>\n",
       "      <td>2.861393</td>\n",
       "      <td>4</td>\n",
       "    </tr>\n",
       "    <tr>\n",
       "      <th>4</th>\n",
       "      <td>3.064592</td>\n",
       "      <td>5</td>\n",
       "    </tr>\n",
       "  </tbody>\n",
       "</table>\n",
       "</div>"
      ],
      "text/plain": [
       "     rating  movieId\n",
       "0  3.921240        1\n",
       "1  3.211977        2\n",
       "2  3.151040        3\n",
       "3  2.861393        4\n",
       "4  3.064592        5"
      ]
     },
     "execution_count": 11,
     "metadata": {},
     "output_type": "execute_result"
    }
   ],
   "source": [
    "mean.head()"
   ]
  },
  {
   "cell_type": "code",
   "execution_count": 12,
   "metadata": {},
   "outputs": [],
   "source": [
    "merged_table = pd.merge(movies, mean, on = 'movieId')"
   ]
  },
  {
   "cell_type": "code",
   "execution_count": 13,
   "metadata": {},
   "outputs": [
    {
     "data": {
      "text/html": [
       "<div>\n",
       "<style scoped>\n",
       "    .dataframe tbody tr th:only-of-type {\n",
       "        vertical-align: middle;\n",
       "    }\n",
       "\n",
       "    .dataframe tbody tr th {\n",
       "        vertical-align: top;\n",
       "    }\n",
       "\n",
       "    .dataframe thead th {\n",
       "        text-align: right;\n",
       "    }\n",
       "</style>\n",
       "<table border=\"1\" class=\"dataframe\">\n",
       "  <thead>\n",
       "    <tr style=\"text-align: right;\">\n",
       "      <th></th>\n",
       "      <th>movieId</th>\n",
       "      <th>title</th>\n",
       "      <th>genres</th>\n",
       "      <th>rating</th>\n",
       "    </tr>\n",
       "  </thead>\n",
       "  <tbody>\n",
       "    <tr>\n",
       "      <th>0</th>\n",
       "      <td>1</td>\n",
       "      <td>Toy Story (1995)</td>\n",
       "      <td>Adventure|Animation|Children|Comedy|Fantasy</td>\n",
       "      <td>3.921240</td>\n",
       "    </tr>\n",
       "    <tr>\n",
       "      <th>1</th>\n",
       "      <td>2</td>\n",
       "      <td>Jumanji (1995)</td>\n",
       "      <td>Adventure|Children|Fantasy</td>\n",
       "      <td>3.211977</td>\n",
       "    </tr>\n",
       "    <tr>\n",
       "      <th>2</th>\n",
       "      <td>3</td>\n",
       "      <td>Grumpier Old Men (1995)</td>\n",
       "      <td>Comedy|Romance</td>\n",
       "      <td>3.151040</td>\n",
       "    </tr>\n",
       "    <tr>\n",
       "      <th>3</th>\n",
       "      <td>4</td>\n",
       "      <td>Waiting to Exhale (1995)</td>\n",
       "      <td>Comedy|Drama|Romance</td>\n",
       "      <td>2.861393</td>\n",
       "    </tr>\n",
       "    <tr>\n",
       "      <th>4</th>\n",
       "      <td>5</td>\n",
       "      <td>Father of the Bride Part II (1995)</td>\n",
       "      <td>Comedy</td>\n",
       "      <td>3.064592</td>\n",
       "    </tr>\n",
       "  </tbody>\n",
       "</table>\n",
       "</div>"
      ],
      "text/plain": [
       "   movieId                               title  \\\n",
       "0        1                    Toy Story (1995)   \n",
       "1        2                      Jumanji (1995)   \n",
       "2        3             Grumpier Old Men (1995)   \n",
       "3        4            Waiting to Exhale (1995)   \n",
       "4        5  Father of the Bride Part II (1995)   \n",
       "\n",
       "                                        genres    rating  \n",
       "0  Adventure|Animation|Children|Comedy|Fantasy  3.921240  \n",
       "1                   Adventure|Children|Fantasy  3.211977  \n",
       "2                               Comedy|Romance  3.151040  \n",
       "3                         Comedy|Drama|Romance  2.861393  \n",
       "4                                       Comedy  3.064592  "
      ]
     },
     "execution_count": 13,
     "metadata": {},
     "output_type": "execute_result"
    }
   ],
   "source": [
    "merged_table.head()"
   ]
  },
  {
   "cell_type": "code",
   "execution_count": 14,
   "metadata": {},
   "outputs": [
    {
     "data": {
      "text/plain": [
       "(26744, 4)"
      ]
     },
     "execution_count": 14,
     "metadata": {},
     "output_type": "execute_result"
    }
   ],
   "source": [
    "merged_table.shape"
   ]
  },
  {
   "cell_type": "code",
   "execution_count": 25,
   "metadata": {},
   "outputs": [],
   "source": [
    "result = merged_table.sort_values('rating', ascending = False)\n",
    "def genre_choose_rough(genre):\n",
    "    final = result[result.genres.str.contains('|'.join(genre))].title[:10].tolist()\n",
    "    return final"
   ]
  },
  {
   "cell_type": "code",
   "execution_count": 26,
   "metadata": {},
   "outputs": [
    {
     "data": {
      "text/plain": [
       "['Giorgino (1994)',\n",
       " 'Life On A String (Bian chang Bian Zou) (1991)',\n",
       " 'Victor and the Secret of Crocodile Mansion (2012)',\n",
       " 'Into the Middle of Nowhere (2010)',\n",
       " 'Stargate SG-1 Children of the Gods - Final Cut (2009)',\n",
       " 'The Beautiful Story (1992)',\n",
       " 'Curse of the Ring (Ring of the Nibelungs) (2004)',\n",
       " 'The Magnificent Gladiator (1964)',\n",
       " 'Symphony of the Soil (2012)',\n",
       " 'Itinerary of a Spoiled Child (1988)']"
      ]
     },
     "execution_count": 26,
     "metadata": {},
     "output_type": "execute_result"
    }
   ],
   "source": [
    "inp = ['Adventure']\n",
    "genre_choose_rough(inp)"
   ]
  },
  {
   "cell_type": "markdown",
   "metadata": {},
   "source": [
    "### 1.2 Take the number of ratings for a single film into account"
   ]
  },
  {
   "cell_type": "code",
   "execution_count": 18,
   "metadata": {},
   "outputs": [],
   "source": [
    "count = pd.DataFrame(ratings[['movieId','userId']].groupby(['movieId'])['userId'].count())\n",
    "count['movieId'] = count.index\n",
    "count.index = range(len(count))"
   ]
  },
  {
   "cell_type": "code",
   "execution_count": 19,
   "metadata": {},
   "outputs": [
    {
     "data": {
      "text/html": [
       "<div>\n",
       "<style scoped>\n",
       "    .dataframe tbody tr th:only-of-type {\n",
       "        vertical-align: middle;\n",
       "    }\n",
       "\n",
       "    .dataframe tbody tr th {\n",
       "        vertical-align: top;\n",
       "    }\n",
       "\n",
       "    .dataframe thead th {\n",
       "        text-align: right;\n",
       "    }\n",
       "</style>\n",
       "<table border=\"1\" class=\"dataframe\">\n",
       "  <thead>\n",
       "    <tr style=\"text-align: right;\">\n",
       "      <th></th>\n",
       "      <th>count</th>\n",
       "      <th>movieId</th>\n",
       "    </tr>\n",
       "  </thead>\n",
       "  <tbody>\n",
       "    <tr>\n",
       "      <th>293</th>\n",
       "      <td>67310</td>\n",
       "      <td>296</td>\n",
       "    </tr>\n",
       "    <tr>\n",
       "      <th>352</th>\n",
       "      <td>66172</td>\n",
       "      <td>356</td>\n",
       "    </tr>\n",
       "    <tr>\n",
       "      <th>315</th>\n",
       "      <td>63366</td>\n",
       "      <td>318</td>\n",
       "    </tr>\n",
       "    <tr>\n",
       "      <th>587</th>\n",
       "      <td>63299</td>\n",
       "      <td>593</td>\n",
       "    </tr>\n",
       "    <tr>\n",
       "      <th>476</th>\n",
       "      <td>59715</td>\n",
       "      <td>480</td>\n",
       "    </tr>\n",
       "  </tbody>\n",
       "</table>\n",
       "</div>"
      ],
      "text/plain": [
       "     count  movieId\n",
       "293  67310      296\n",
       "352  66172      356\n",
       "315  63366      318\n",
       "587  63299      593\n",
       "476  59715      480"
      ]
     },
     "execution_count": 19,
     "metadata": {},
     "output_type": "execute_result"
    }
   ],
   "source": [
    "count.columns = ['count','movieId']\n",
    "count = count.sort_values('count', ascending = False)\n",
    "count.head()"
   ]
  },
  {
   "cell_type": "code",
   "execution_count": 20,
   "metadata": {},
   "outputs": [
    {
     "data": {
      "text/html": [
       "<div>\n",
       "<style scoped>\n",
       "    .dataframe tbody tr th:only-of-type {\n",
       "        vertical-align: middle;\n",
       "    }\n",
       "\n",
       "    .dataframe tbody tr th {\n",
       "        vertical-align: top;\n",
       "    }\n",
       "\n",
       "    .dataframe thead th {\n",
       "        text-align: right;\n",
       "    }\n",
       "</style>\n",
       "<table border=\"1\" class=\"dataframe\">\n",
       "  <thead>\n",
       "    <tr style=\"text-align: right;\">\n",
       "      <th></th>\n",
       "      <th>count</th>\n",
       "      <th>movieId</th>\n",
       "    </tr>\n",
       "  </thead>\n",
       "  <tbody>\n",
       "    <tr>\n",
       "      <th>count</th>\n",
       "      <td>26744.000000</td>\n",
       "      <td>26744.000000</td>\n",
       "    </tr>\n",
       "    <tr>\n",
       "      <th>mean</th>\n",
       "      <td>747.841123</td>\n",
       "      <td>58789.612436</td>\n",
       "    </tr>\n",
       "    <tr>\n",
       "      <th>std</th>\n",
       "      <td>3085.818268</td>\n",
       "      <td>44159.344871</td>\n",
       "    </tr>\n",
       "    <tr>\n",
       "      <th>min</th>\n",
       "      <td>1.000000</td>\n",
       "      <td>1.000000</td>\n",
       "    </tr>\n",
       "    <tr>\n",
       "      <th>25%</th>\n",
       "      <td>3.000000</td>\n",
       "      <td>6795.750000</td>\n",
       "    </tr>\n",
       "    <tr>\n",
       "      <th>50%</th>\n",
       "      <td>18.000000</td>\n",
       "      <td>65880.000000</td>\n",
       "    </tr>\n",
       "    <tr>\n",
       "      <th>75%</th>\n",
       "      <td>205.000000</td>\n",
       "      <td>99110.500000</td>\n",
       "    </tr>\n",
       "    <tr>\n",
       "      <th>max</th>\n",
       "      <td>67310.000000</td>\n",
       "      <td>131262.000000</td>\n",
       "    </tr>\n",
       "  </tbody>\n",
       "</table>\n",
       "</div>"
      ],
      "text/plain": [
       "              count        movieId\n",
       "count  26744.000000   26744.000000\n",
       "mean     747.841123   58789.612436\n",
       "std     3085.818268   44159.344871\n",
       "min        1.000000       1.000000\n",
       "25%        3.000000    6795.750000\n",
       "50%       18.000000   65880.000000\n",
       "75%      205.000000   99110.500000\n",
       "max    67310.000000  131262.000000"
      ]
     },
     "execution_count": 20,
     "metadata": {},
     "output_type": "execute_result"
    }
   ],
   "source": [
    "count.describe()"
   ]
  },
  {
   "cell_type": "code",
   "execution_count": 21,
   "metadata": {},
   "outputs": [
    {
     "data": {
      "text/plain": [
       "8399"
      ]
     },
     "execution_count": 21,
     "metadata": {},
     "output_type": "execute_result"
    }
   ],
   "source": [
    "len(count[count['count'] < 5])"
   ]
  },
  {
   "cell_type": "code",
   "execution_count": 22,
   "metadata": {},
   "outputs": [
    {
     "data": {
      "text/html": [
       "<div>\n",
       "<style scoped>\n",
       "    .dataframe tbody tr th:only-of-type {\n",
       "        vertical-align: middle;\n",
       "    }\n",
       "\n",
       "    .dataframe tbody tr th {\n",
       "        vertical-align: top;\n",
       "    }\n",
       "\n",
       "    .dataframe thead th {\n",
       "        text-align: right;\n",
       "    }\n",
       "</style>\n",
       "<table border=\"1\" class=\"dataframe\">\n",
       "  <thead>\n",
       "    <tr style=\"text-align: right;\">\n",
       "      <th></th>\n",
       "      <th>movieId</th>\n",
       "      <th>title</th>\n",
       "      <th>genres</th>\n",
       "      <th>rating</th>\n",
       "      <th>count</th>\n",
       "    </tr>\n",
       "  </thead>\n",
       "  <tbody>\n",
       "    <tr>\n",
       "      <th>0</th>\n",
       "      <td>1</td>\n",
       "      <td>Toy Story (1995)</td>\n",
       "      <td>Adventure|Animation|Children|Comedy|Fantasy</td>\n",
       "      <td>3.921240</td>\n",
       "      <td>49695</td>\n",
       "    </tr>\n",
       "    <tr>\n",
       "      <th>1</th>\n",
       "      <td>2</td>\n",
       "      <td>Jumanji (1995)</td>\n",
       "      <td>Adventure|Children|Fantasy</td>\n",
       "      <td>3.211977</td>\n",
       "      <td>22243</td>\n",
       "    </tr>\n",
       "    <tr>\n",
       "      <th>2</th>\n",
       "      <td>3</td>\n",
       "      <td>Grumpier Old Men (1995)</td>\n",
       "      <td>Comedy|Romance</td>\n",
       "      <td>3.151040</td>\n",
       "      <td>12735</td>\n",
       "    </tr>\n",
       "    <tr>\n",
       "      <th>3</th>\n",
       "      <td>4</td>\n",
       "      <td>Waiting to Exhale (1995)</td>\n",
       "      <td>Comedy|Drama|Romance</td>\n",
       "      <td>2.861393</td>\n",
       "      <td>2756</td>\n",
       "    </tr>\n",
       "    <tr>\n",
       "      <th>4</th>\n",
       "      <td>5</td>\n",
       "      <td>Father of the Bride Part II (1995)</td>\n",
       "      <td>Comedy</td>\n",
       "      <td>3.064592</td>\n",
       "      <td>12161</td>\n",
       "    </tr>\n",
       "  </tbody>\n",
       "</table>\n",
       "</div>"
      ],
      "text/plain": [
       "   movieId                               title  \\\n",
       "0        1                    Toy Story (1995)   \n",
       "1        2                      Jumanji (1995)   \n",
       "2        3             Grumpier Old Men (1995)   \n",
       "3        4            Waiting to Exhale (1995)   \n",
       "4        5  Father of the Bride Part II (1995)   \n",
       "\n",
       "                                        genres    rating  count  \n",
       "0  Adventure|Animation|Children|Comedy|Fantasy  3.921240  49695  \n",
       "1                   Adventure|Children|Fantasy  3.211977  22243  \n",
       "2                               Comedy|Romance  3.151040  12735  \n",
       "3                         Comedy|Drama|Romance  2.861393   2756  \n",
       "4                                       Comedy  3.064592  12161  "
      ]
     },
     "execution_count": 22,
     "metadata": {},
     "output_type": "execute_result"
    }
   ],
   "source": [
    "merged = pd.merge(merged_table, count, on = 'movieId')\n",
    "merged.head()"
   ]
  },
  {
   "cell_type": "code",
   "execution_count": 49,
   "metadata": {},
   "outputs": [
    {
     "name": "stderr",
     "output_type": "stream",
     "text": [
      "/Users/ying/anaconda3/lib/python3.7/site-packages/ipykernel_launcher.py:5: UserWarning: This pattern has match groups. To actually get the groups, use str.extract.\n",
      "  \"\"\"\n"
     ]
    },
    {
     "name": "stdout",
     "output_type": "stream",
     "text": [
      "(no genres listed) 20\n",
      "Adventure 70\n",
      "War 62\n",
      "Mystery 61\n",
      "Documentary 186\n",
      "Action 73\n",
      "Crime 92\n",
      "Film-Noir 28\n",
      "Musical 28\n",
      "Animation 35\n",
      "Romance 126\n",
      "Sci-Fi 38\n",
      "Western 10\n",
      "IMAX 6\n",
      "Comedy 230\n",
      "Horror 19\n",
      "Thriller 95\n",
      "Fantasy 40\n",
      "Children 23\n",
      "Drama 494\n"
     ]
    }
   ],
   "source": [
    "# check if all genres contain 10 movies with rating>4 \n",
    "result = merged.sort_values('count', ascending = False)\n",
    "\n",
    "for x in g_list:\n",
    "    y = result[result.genres.str.contains(str(x)) & (result.rating > 4)]\n",
    "    print(x, len(y))"
   ]
  },
  {
   "cell_type": "code",
   "execution_count": 68,
   "metadata": {},
   "outputs": [],
   "source": [
    "# rating > 4 and sorted in number of ratings\n",
    "result = merged.sort_values('count', ascending = False)\n",
    "\n",
    "def choose(genre):\n",
    "    \n",
    "    inpt = '|'.join(genre)\n",
    "    final = result[result.genres.str.contains(inpt) & (result.rating > 4)]\n",
    "    \n",
    "    if len(final) < 10:\n",
    "        return final.title.tolist()\n",
    "    \n",
    "    return final.title[:10].tolist()\n"
   ]
  },
  {
   "cell_type": "code",
   "execution_count": 69,
   "metadata": {},
   "outputs": [
    {
     "data": {
      "text/plain": [
       "['Dark Knight, The (2008)',\n",
       " 'Inception (2010)',\n",
       " 'Toy Story 3 (2010)',\n",
       " 'Dark Knight Rises, The (2012)',\n",
       " 'How to Train Your Dragon (2010)',\n",
       " 'Interstellar (2014)']"
      ]
     },
     "execution_count": 69,
     "metadata": {},
     "output_type": "execute_result"
    }
   ],
   "source": [
    "choose(['IMAX'])"
   ]
  },
  {
   "cell_type": "code",
   "execution_count": 65,
   "metadata": {},
   "outputs": [
    {
     "data": {
      "text/plain": [
       "['Star Wars: Episode IV - A New Hope (1977)',\n",
       " 'Braveheart (1995)',\n",
       " 'Matrix, The (1999)',\n",
       " 'Star Wars: Episode VI - Return of the Jedi (1983)',\n",
       " 'Star Wars: Episode V - The Empire Strikes Back (1980)',\n",
       " 'Raiders of the Lost Ark (Indiana Jones and the Raiders of the Lost Ark) (1981)',\n",
       " 'Fight Club (1999)',\n",
       " 'Lord of the Rings: The Fellowship of the Ring, The (2001)',\n",
       " 'Saving Private Ryan (1998)',\n",
       " 'Lord of the Rings: The Two Towers, The (2002)']"
      ]
     },
     "execution_count": 65,
     "metadata": {},
     "output_type": "execute_result"
    }
   ],
   "source": [
    "choose(['Adventure','Action'])"
   ]
  },
  {
   "cell_type": "code",
   "execution_count": 62,
   "metadata": {},
   "outputs": [],
   "source": [
    "我感觉这部分可以不要，10个评价还是太少了\n",
    "# # the number of ratings > 10 and sorted in rating\n",
    "# inpt = 'Adventure'\n",
    "# result = merged.sort_values('rating', ascending = False)\n",
    "# result[result.genres.str.contains(inpt) & (result['count'] > 10)].head()#.title[:10].tolist()"
   ]
  },
  {
   "cell_type": "markdown",
   "metadata": {},
   "source": [
    "## 2. Content-Based Recommendation\n",
    "\n",
    "    -- Recommend for a typical movie"
   ]
  },
  {
   "cell_type": "code",
   "execution_count": 21,
   "metadata": {},
   "outputs": [
    {
     "data": {
      "text/html": [
       "<div>\n",
       "<style scoped>\n",
       "    .dataframe tbody tr th:only-of-type {\n",
       "        vertical-align: middle;\n",
       "    }\n",
       "\n",
       "    .dataframe tbody tr th {\n",
       "        vertical-align: top;\n",
       "    }\n",
       "\n",
       "    .dataframe thead th {\n",
       "        text-align: right;\n",
       "    }\n",
       "</style>\n",
       "<table border=\"1\" class=\"dataframe\">\n",
       "  <thead>\n",
       "    <tr style=\"text-align: right;\">\n",
       "      <th></th>\n",
       "      <th>movieId</th>\n",
       "      <th>tagId</th>\n",
       "      <th>relevance</th>\n",
       "    </tr>\n",
       "  </thead>\n",
       "  <tbody>\n",
       "    <tr>\n",
       "      <th>0</th>\n",
       "      <td>1</td>\n",
       "      <td>1</td>\n",
       "      <td>0.02500</td>\n",
       "    </tr>\n",
       "    <tr>\n",
       "      <th>1</th>\n",
       "      <td>1</td>\n",
       "      <td>2</td>\n",
       "      <td>0.02500</td>\n",
       "    </tr>\n",
       "    <tr>\n",
       "      <th>2</th>\n",
       "      <td>1</td>\n",
       "      <td>3</td>\n",
       "      <td>0.05775</td>\n",
       "    </tr>\n",
       "    <tr>\n",
       "      <th>3</th>\n",
       "      <td>1</td>\n",
       "      <td>4</td>\n",
       "      <td>0.09675</td>\n",
       "    </tr>\n",
       "    <tr>\n",
       "      <th>4</th>\n",
       "      <td>1</td>\n",
       "      <td>5</td>\n",
       "      <td>0.14675</td>\n",
       "    </tr>\n",
       "  </tbody>\n",
       "</table>\n",
       "</div>"
      ],
      "text/plain": [
       "   movieId  tagId  relevance\n",
       "0        1      1    0.02500\n",
       "1        1      2    0.02500\n",
       "2        1      3    0.05775\n",
       "3        1      4    0.09675\n",
       "4        1      5    0.14675"
      ]
     },
     "execution_count": 21,
     "metadata": {},
     "output_type": "execute_result"
    }
   ],
   "source": [
    "# genome_scores = pd.read_csv('Project91/ml-20m/genome-scores.csv')\n",
    "# genome_scores.head()"
   ]
  },
  {
   "cell_type": "code",
   "execution_count": 22,
   "metadata": {},
   "outputs": [
    {
     "data": {
      "text/plain": [
       "(11709768, 3)"
      ]
     },
     "execution_count": 22,
     "metadata": {},
     "output_type": "execute_result"
    }
   ],
   "source": [
    "# genome_scores.shape"
   ]
  },
  {
   "cell_type": "code",
   "execution_count": 23,
   "metadata": {},
   "outputs": [
    {
     "data": {
      "text/plain": [
       "10381"
      ]
     },
     "execution_count": 23,
     "metadata": {},
     "output_type": "execute_result"
    }
   ],
   "source": [
    "# len(set(genome_scores.movieId))"
   ]
  },
  {
   "cell_type": "code",
   "execution_count": 24,
   "metadata": {},
   "outputs": [
    {
     "data": {
      "text/plain": [
       "1128"
      ]
     },
     "execution_count": 24,
     "metadata": {},
     "output_type": "execute_result"
    }
   ],
   "source": [
    "# max(genome_scores.tagId)"
   ]
  },
  {
   "cell_type": "code",
   "execution_count": 25,
   "metadata": {},
   "outputs": [],
   "source": [
    "# transform the genome_scores dataframe into relevance matrix\n",
    "df = genome_scores.groupby(['movieId'])['relevance'].apply(list).apply(pd.Series)\n",
    "score_matrix = np.matrix(df)"
   ]
  },
  {
   "cell_type": "code",
   "execution_count": 26,
   "metadata": {},
   "outputs": [
    {
     "data": {
      "text/html": [
       "<div>\n",
       "<style scoped>\n",
       "    .dataframe tbody tr th:only-of-type {\n",
       "        vertical-align: middle;\n",
       "    }\n",
       "\n",
       "    .dataframe tbody tr th {\n",
       "        vertical-align: top;\n",
       "    }\n",
       "\n",
       "    .dataframe thead th {\n",
       "        text-align: right;\n",
       "    }\n",
       "</style>\n",
       "<table border=\"1\" class=\"dataframe\">\n",
       "  <thead>\n",
       "    <tr style=\"text-align: right;\">\n",
       "      <th></th>\n",
       "      <th>0</th>\n",
       "      <th>1</th>\n",
       "      <th>2</th>\n",
       "      <th>3</th>\n",
       "      <th>4</th>\n",
       "      <th>5</th>\n",
       "      <th>6</th>\n",
       "      <th>7</th>\n",
       "      <th>8</th>\n",
       "      <th>9</th>\n",
       "      <th>...</th>\n",
       "      <th>1118</th>\n",
       "      <th>1119</th>\n",
       "      <th>1120</th>\n",
       "      <th>1121</th>\n",
       "      <th>1122</th>\n",
       "      <th>1123</th>\n",
       "      <th>1124</th>\n",
       "      <th>1125</th>\n",
       "      <th>1126</th>\n",
       "      <th>1127</th>\n",
       "    </tr>\n",
       "    <tr>\n",
       "      <th>movieId</th>\n",
       "      <th></th>\n",
       "      <th></th>\n",
       "      <th></th>\n",
       "      <th></th>\n",
       "      <th></th>\n",
       "      <th></th>\n",
       "      <th></th>\n",
       "      <th></th>\n",
       "      <th></th>\n",
       "      <th></th>\n",
       "      <th></th>\n",
       "      <th></th>\n",
       "      <th></th>\n",
       "      <th></th>\n",
       "      <th></th>\n",
       "      <th></th>\n",
       "      <th></th>\n",
       "      <th></th>\n",
       "      <th></th>\n",
       "      <th></th>\n",
       "      <th></th>\n",
       "    </tr>\n",
       "  </thead>\n",
       "  <tbody>\n",
       "    <tr>\n",
       "      <th>1</th>\n",
       "      <td>0.02500</td>\n",
       "      <td>0.02500</td>\n",
       "      <td>0.05775</td>\n",
       "      <td>0.09675</td>\n",
       "      <td>0.14675</td>\n",
       "      <td>0.21700</td>\n",
       "      <td>0.06700</td>\n",
       "      <td>0.26275</td>\n",
       "      <td>0.26200</td>\n",
       "      <td>0.03200</td>\n",
       "      <td>...</td>\n",
       "      <td>0.03950</td>\n",
       "      <td>0.01800</td>\n",
       "      <td>0.04575</td>\n",
       "      <td>0.03275</td>\n",
       "      <td>0.12500</td>\n",
       "      <td>0.04150</td>\n",
       "      <td>0.01925</td>\n",
       "      <td>0.03625</td>\n",
       "      <td>0.07775</td>\n",
       "      <td>0.02300</td>\n",
       "    </tr>\n",
       "    <tr>\n",
       "      <th>2</th>\n",
       "      <td>0.03975</td>\n",
       "      <td>0.04375</td>\n",
       "      <td>0.03775</td>\n",
       "      <td>0.04800</td>\n",
       "      <td>0.11025</td>\n",
       "      <td>0.07250</td>\n",
       "      <td>0.04775</td>\n",
       "      <td>0.10975</td>\n",
       "      <td>0.09925</td>\n",
       "      <td>0.02050</td>\n",
       "      <td>...</td>\n",
       "      <td>0.04175</td>\n",
       "      <td>0.01925</td>\n",
       "      <td>0.01725</td>\n",
       "      <td>0.02425</td>\n",
       "      <td>0.12550</td>\n",
       "      <td>0.02250</td>\n",
       "      <td>0.01550</td>\n",
       "      <td>0.01475</td>\n",
       "      <td>0.09025</td>\n",
       "      <td>0.01875</td>\n",
       "    </tr>\n",
       "    <tr>\n",
       "      <th>3</th>\n",
       "      <td>0.04350</td>\n",
       "      <td>0.05475</td>\n",
       "      <td>0.02800</td>\n",
       "      <td>0.07700</td>\n",
       "      <td>0.05400</td>\n",
       "      <td>0.06850</td>\n",
       "      <td>0.05600</td>\n",
       "      <td>0.18500</td>\n",
       "      <td>0.04925</td>\n",
       "      <td>0.02675</td>\n",
       "      <td>...</td>\n",
       "      <td>0.04150</td>\n",
       "      <td>0.02675</td>\n",
       "      <td>0.02775</td>\n",
       "      <td>0.03425</td>\n",
       "      <td>0.15550</td>\n",
       "      <td>0.03675</td>\n",
       "      <td>0.01700</td>\n",
       "      <td>0.01950</td>\n",
       "      <td>0.09700</td>\n",
       "      <td>0.01850</td>\n",
       "    </tr>\n",
       "    <tr>\n",
       "      <th>4</th>\n",
       "      <td>0.03725</td>\n",
       "      <td>0.03950</td>\n",
       "      <td>0.03675</td>\n",
       "      <td>0.03100</td>\n",
       "      <td>0.06825</td>\n",
       "      <td>0.04050</td>\n",
       "      <td>0.02325</td>\n",
       "      <td>0.08700</td>\n",
       "      <td>0.05125</td>\n",
       "      <td>0.03025</td>\n",
       "      <td>...</td>\n",
       "      <td>0.05750</td>\n",
       "      <td>0.03375</td>\n",
       "      <td>0.02275</td>\n",
       "      <td>0.03975</td>\n",
       "      <td>0.18525</td>\n",
       "      <td>0.05925</td>\n",
       "      <td>0.01500</td>\n",
       "      <td>0.01525</td>\n",
       "      <td>0.06450</td>\n",
       "      <td>0.01300</td>\n",
       "    </tr>\n",
       "    <tr>\n",
       "      <th>5</th>\n",
       "      <td>0.04200</td>\n",
       "      <td>0.05275</td>\n",
       "      <td>0.05925</td>\n",
       "      <td>0.03675</td>\n",
       "      <td>0.07525</td>\n",
       "      <td>0.12525</td>\n",
       "      <td>0.02850</td>\n",
       "      <td>0.08500</td>\n",
       "      <td>0.02950</td>\n",
       "      <td>0.02875</td>\n",
       "      <td>...</td>\n",
       "      <td>0.04250</td>\n",
       "      <td>0.02825</td>\n",
       "      <td>0.02150</td>\n",
       "      <td>0.02600</td>\n",
       "      <td>0.14275</td>\n",
       "      <td>0.02075</td>\n",
       "      <td>0.01650</td>\n",
       "      <td>0.01675</td>\n",
       "      <td>0.10750</td>\n",
       "      <td>0.01825</td>\n",
       "    </tr>\n",
       "  </tbody>\n",
       "</table>\n",
       "<p>5 rows × 1128 columns</p>\n",
       "</div>"
      ],
      "text/plain": [
       "            0        1        2        3        4        5        6     \\\n",
       "movieId                                                                  \n",
       "1        0.02500  0.02500  0.05775  0.09675  0.14675  0.21700  0.06700   \n",
       "2        0.03975  0.04375  0.03775  0.04800  0.11025  0.07250  0.04775   \n",
       "3        0.04350  0.05475  0.02800  0.07700  0.05400  0.06850  0.05600   \n",
       "4        0.03725  0.03950  0.03675  0.03100  0.06825  0.04050  0.02325   \n",
       "5        0.04200  0.05275  0.05925  0.03675  0.07525  0.12525  0.02850   \n",
       "\n",
       "            7        8        9      ...        1118     1119     1120  \\\n",
       "movieId                              ...                                 \n",
       "1        0.26275  0.26200  0.03200   ...     0.03950  0.01800  0.04575   \n",
       "2        0.10975  0.09925  0.02050   ...     0.04175  0.01925  0.01725   \n",
       "3        0.18500  0.04925  0.02675   ...     0.04150  0.02675  0.02775   \n",
       "4        0.08700  0.05125  0.03025   ...     0.05750  0.03375  0.02275   \n",
       "5        0.08500  0.02950  0.02875   ...     0.04250  0.02825  0.02150   \n",
       "\n",
       "            1121     1122     1123     1124     1125     1126     1127  \n",
       "movieId                                                                 \n",
       "1        0.03275  0.12500  0.04150  0.01925  0.03625  0.07775  0.02300  \n",
       "2        0.02425  0.12550  0.02250  0.01550  0.01475  0.09025  0.01875  \n",
       "3        0.03425  0.15550  0.03675  0.01700  0.01950  0.09700  0.01850  \n",
       "4        0.03975  0.18525  0.05925  0.01500  0.01525  0.06450  0.01300  \n",
       "5        0.02600  0.14275  0.02075  0.01650  0.01675  0.10750  0.01825  \n",
       "\n",
       "[5 rows x 1128 columns]"
      ]
     },
     "execution_count": 26,
     "metadata": {},
     "output_type": "execute_result"
    }
   ],
   "source": [
    "df.head()"
   ]
  },
  {
   "cell_type": "code",
   "execution_count": 27,
   "metadata": {},
   "outputs": [
    {
     "data": {
      "text/plain": [
       "(10381, 1128)"
      ]
     },
     "execution_count": 27,
     "metadata": {},
     "output_type": "execute_result"
    }
   ],
   "source": [
    "df.shape"
   ]
  },
  {
   "cell_type": "code",
   "execution_count": 28,
   "metadata": {},
   "outputs": [],
   "source": [
    "from sklearn.metrics.pairwise import cosine_similarity\n",
    "\n",
    "# compute cosine similarity for every movie \n",
    "cosine_sim = cosine_similarity(score_matrix, score_matrix)"
   ]
  },
  {
   "cell_type": "code",
   "execution_count": 29,
   "metadata": {},
   "outputs": [],
   "source": [
    "# get the movieId value and reset the df index\n",
    "df['movieId']=df.index\n",
    "df.index = range(len(df))"
   ]
  },
  {
   "cell_type": "code",
   "execution_count": 30,
   "metadata": {},
   "outputs": [
    {
     "data": {
      "text/html": [
       "<div>\n",
       "<style scoped>\n",
       "    .dataframe tbody tr th:only-of-type {\n",
       "        vertical-align: middle;\n",
       "    }\n",
       "\n",
       "    .dataframe tbody tr th {\n",
       "        vertical-align: top;\n",
       "    }\n",
       "\n",
       "    .dataframe thead th {\n",
       "        text-align: right;\n",
       "    }\n",
       "</style>\n",
       "<table border=\"1\" class=\"dataframe\">\n",
       "  <thead>\n",
       "    <tr style=\"text-align: right;\">\n",
       "      <th></th>\n",
       "      <th>0</th>\n",
       "      <th>1</th>\n",
       "      <th>2</th>\n",
       "      <th>3</th>\n",
       "      <th>4</th>\n",
       "      <th>5</th>\n",
       "      <th>6</th>\n",
       "      <th>7</th>\n",
       "      <th>8</th>\n",
       "      <th>9</th>\n",
       "      <th>...</th>\n",
       "      <th>1119</th>\n",
       "      <th>1120</th>\n",
       "      <th>1121</th>\n",
       "      <th>1122</th>\n",
       "      <th>1123</th>\n",
       "      <th>1124</th>\n",
       "      <th>1125</th>\n",
       "      <th>1126</th>\n",
       "      <th>1127</th>\n",
       "      <th>movieId</th>\n",
       "    </tr>\n",
       "  </thead>\n",
       "  <tbody>\n",
       "    <tr>\n",
       "      <th>0</th>\n",
       "      <td>0.02500</td>\n",
       "      <td>0.02500</td>\n",
       "      <td>0.05775</td>\n",
       "      <td>0.09675</td>\n",
       "      <td>0.14675</td>\n",
       "      <td>0.21700</td>\n",
       "      <td>0.06700</td>\n",
       "      <td>0.26275</td>\n",
       "      <td>0.26200</td>\n",
       "      <td>0.03200</td>\n",
       "      <td>...</td>\n",
       "      <td>0.01800</td>\n",
       "      <td>0.04575</td>\n",
       "      <td>0.03275</td>\n",
       "      <td>0.12500</td>\n",
       "      <td>0.04150</td>\n",
       "      <td>0.01925</td>\n",
       "      <td>0.03625</td>\n",
       "      <td>0.07775</td>\n",
       "      <td>0.02300</td>\n",
       "      <td>1</td>\n",
       "    </tr>\n",
       "    <tr>\n",
       "      <th>1</th>\n",
       "      <td>0.03975</td>\n",
       "      <td>0.04375</td>\n",
       "      <td>0.03775</td>\n",
       "      <td>0.04800</td>\n",
       "      <td>0.11025</td>\n",
       "      <td>0.07250</td>\n",
       "      <td>0.04775</td>\n",
       "      <td>0.10975</td>\n",
       "      <td>0.09925</td>\n",
       "      <td>0.02050</td>\n",
       "      <td>...</td>\n",
       "      <td>0.01925</td>\n",
       "      <td>0.01725</td>\n",
       "      <td>0.02425</td>\n",
       "      <td>0.12550</td>\n",
       "      <td>0.02250</td>\n",
       "      <td>0.01550</td>\n",
       "      <td>0.01475</td>\n",
       "      <td>0.09025</td>\n",
       "      <td>0.01875</td>\n",
       "      <td>2</td>\n",
       "    </tr>\n",
       "    <tr>\n",
       "      <th>2</th>\n",
       "      <td>0.04350</td>\n",
       "      <td>0.05475</td>\n",
       "      <td>0.02800</td>\n",
       "      <td>0.07700</td>\n",
       "      <td>0.05400</td>\n",
       "      <td>0.06850</td>\n",
       "      <td>0.05600</td>\n",
       "      <td>0.18500</td>\n",
       "      <td>0.04925</td>\n",
       "      <td>0.02675</td>\n",
       "      <td>...</td>\n",
       "      <td>0.02675</td>\n",
       "      <td>0.02775</td>\n",
       "      <td>0.03425</td>\n",
       "      <td>0.15550</td>\n",
       "      <td>0.03675</td>\n",
       "      <td>0.01700</td>\n",
       "      <td>0.01950</td>\n",
       "      <td>0.09700</td>\n",
       "      <td>0.01850</td>\n",
       "      <td>3</td>\n",
       "    </tr>\n",
       "    <tr>\n",
       "      <th>3</th>\n",
       "      <td>0.03725</td>\n",
       "      <td>0.03950</td>\n",
       "      <td>0.03675</td>\n",
       "      <td>0.03100</td>\n",
       "      <td>0.06825</td>\n",
       "      <td>0.04050</td>\n",
       "      <td>0.02325</td>\n",
       "      <td>0.08700</td>\n",
       "      <td>0.05125</td>\n",
       "      <td>0.03025</td>\n",
       "      <td>...</td>\n",
       "      <td>0.03375</td>\n",
       "      <td>0.02275</td>\n",
       "      <td>0.03975</td>\n",
       "      <td>0.18525</td>\n",
       "      <td>0.05925</td>\n",
       "      <td>0.01500</td>\n",
       "      <td>0.01525</td>\n",
       "      <td>0.06450</td>\n",
       "      <td>0.01300</td>\n",
       "      <td>4</td>\n",
       "    </tr>\n",
       "    <tr>\n",
       "      <th>4</th>\n",
       "      <td>0.04200</td>\n",
       "      <td>0.05275</td>\n",
       "      <td>0.05925</td>\n",
       "      <td>0.03675</td>\n",
       "      <td>0.07525</td>\n",
       "      <td>0.12525</td>\n",
       "      <td>0.02850</td>\n",
       "      <td>0.08500</td>\n",
       "      <td>0.02950</td>\n",
       "      <td>0.02875</td>\n",
       "      <td>...</td>\n",
       "      <td>0.02825</td>\n",
       "      <td>0.02150</td>\n",
       "      <td>0.02600</td>\n",
       "      <td>0.14275</td>\n",
       "      <td>0.02075</td>\n",
       "      <td>0.01650</td>\n",
       "      <td>0.01675</td>\n",
       "      <td>0.10750</td>\n",
       "      <td>0.01825</td>\n",
       "      <td>5</td>\n",
       "    </tr>\n",
       "  </tbody>\n",
       "</table>\n",
       "<p>5 rows × 1129 columns</p>\n",
       "</div>"
      ],
      "text/plain": [
       "         0        1        2        3        4        5        6        7  \\\n",
       "0  0.02500  0.02500  0.05775  0.09675  0.14675  0.21700  0.06700  0.26275   \n",
       "1  0.03975  0.04375  0.03775  0.04800  0.11025  0.07250  0.04775  0.10975   \n",
       "2  0.04350  0.05475  0.02800  0.07700  0.05400  0.06850  0.05600  0.18500   \n",
       "3  0.03725  0.03950  0.03675  0.03100  0.06825  0.04050  0.02325  0.08700   \n",
       "4  0.04200  0.05275  0.05925  0.03675  0.07525  0.12525  0.02850  0.08500   \n",
       "\n",
       "         8        9   ...        1119     1120     1121     1122     1123  \\\n",
       "0  0.26200  0.03200   ...     0.01800  0.04575  0.03275  0.12500  0.04150   \n",
       "1  0.09925  0.02050   ...     0.01925  0.01725  0.02425  0.12550  0.02250   \n",
       "2  0.04925  0.02675   ...     0.02675  0.02775  0.03425  0.15550  0.03675   \n",
       "3  0.05125  0.03025   ...     0.03375  0.02275  0.03975  0.18525  0.05925   \n",
       "4  0.02950  0.02875   ...     0.02825  0.02150  0.02600  0.14275  0.02075   \n",
       "\n",
       "      1124     1125     1126     1127  movieId  \n",
       "0  0.01925  0.03625  0.07775  0.02300        1  \n",
       "1  0.01550  0.01475  0.09025  0.01875        2  \n",
       "2  0.01700  0.01950  0.09700  0.01850        3  \n",
       "3  0.01500  0.01525  0.06450  0.01300        4  \n",
       "4  0.01650  0.01675  0.10750  0.01825        5  \n",
       "\n",
       "[5 rows x 1129 columns]"
      ]
     },
     "execution_count": 30,
     "metadata": {},
     "output_type": "execute_result"
    }
   ],
   "source": [
    "df.head()"
   ]
  },
  {
   "cell_type": "code",
   "execution_count": 31,
   "metadata": {},
   "outputs": [],
   "source": [
    "def recommendation(title):\n",
    "    \n",
    "    # link title to movieId and find the row number of the matrix\n",
    "    ids = movies[movies['title'] == title]['movieId'].values[0]\n",
    "    i = df[df.movieId==ids].index.values[0]\n",
    "    \n",
    "    # find the specific score for the movie and sort the scores\n",
    "    sim_scores = list(enumerate(cosine_sim[i]))\n",
    "    sim_scores = sorted(sim_scores, key=lambda x: x[1], reverse=True)\n",
    "    \n",
    "    # store the row numbers and related movieId\n",
    "    indices = [i[0] for i in sim_scores[1:]]\n",
    "    movie_ids = df.iloc[indices,:].movieId.values\n",
    "    \n",
    "    result = []\n",
    "    for i in movie_ids:\n",
    "        result.append(movies[movies.movieId == i].title.values[0])\n",
    "    \n",
    "    return result"
   ]
  },
  {
   "cell_type": "code",
   "execution_count": 32,
   "metadata": {},
   "outputs": [
    {
     "data": {
      "text/plain": [
       "['Monsters, Inc. (2001)',\n",
       " 'Toy Story 2 (1999)',\n",
       " \"Bug's Life, A (1998)\",\n",
       " 'Finding Nemo (2003)',\n",
       " 'Toy Story 3 (2010)',\n",
       " 'Ratatouille (2007)',\n",
       " 'Ice Age (2002)',\n",
       " 'Shrek (2001)',\n",
       " 'Up (2009)',\n",
       " 'Antz (1998)']"
      ]
     },
     "execution_count": 32,
     "metadata": {},
     "output_type": "execute_result"
    }
   ],
   "source": [
    "# recommend 10 movies\n",
    "recommendation('Toy Story (1995)')[:10]"
   ]
  }
 ],
 "metadata": {
  "kernelspec": {
   "display_name": "Python 3",
   "language": "python",
   "name": "python3"
  },
  "language_info": {
   "codemirror_mode": {
    "name": "ipython",
    "version": 3
   },
   "file_extension": ".py",
   "mimetype": "text/x-python",
   "name": "python",
   "nbconvert_exporter": "python",
   "pygments_lexer": "ipython3",
   "version": "3.6.9"
  }
 },
 "nbformat": 4,
 "nbformat_minor": 2
}
